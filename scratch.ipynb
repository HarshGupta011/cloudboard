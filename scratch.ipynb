{
 "cells": [
  {
   "cell_type": "code",
   "execution_count": 2,
   "metadata": {},
   "outputs": [],
   "source": [
    "import pyperclip\n",
    "pyperclip.copy('The text to be copied to the clipboard.')"
   ]
  },
  {
   "cell_type": "code",
   "execution_count": 10,
   "metadata": {},
   "outputs": [
    {
     "data": {
      "text/plain": [
       "''"
      ]
     },
     "execution_count": 10,
     "metadata": {},
     "output_type": "execute_result"
    }
   ],
   "source": [
    "pyperclip.paste()"
   ]
  },
  {
   "cell_type": "code",
   "execution_count": 3,
   "metadata": {},
   "outputs": [
    {
     "data": {
      "text/plain": [
       "'from flask import Flask\\r\\nfrom flask_sqlalchemy import SQLAlchemy\\r\\n\\r\\n# create the extension\\r\\ndb = SQLAlchemy()\\r\\n# create the app\\r\\napp = Flask(__name__)\\r\\n# configure the SQLite database, relative to the app instance folder\\r\\napp.config[\"SQLALCHEMY_DATABASE_URI\"] = \"sqlite:///project.db\"\\r\\n# initialize the app with the extension\\r\\ndb.init_app(app)'"
      ]
     },
     "execution_count": 3,
     "metadata": {},
     "output_type": "execute_result"
    }
   ],
   "source": [
    "pyperclip.waitForNewPaste()"
   ]
  },
  {
   "cell_type": "code",
   "execution_count": 46,
   "metadata": {},
   "outputs": [
    {
     "data": {
      "text/plain": [
       "float"
      ]
     },
     "execution_count": 46,
     "metadata": {},
     "output_type": "execute_result"
    }
   ],
   "source": [
    "import time\n",
    "time.time()"
   ]
  },
  {
   "cell_type": "code",
   "execution_count": 5,
   "metadata": {},
   "outputs": [
    {
     "ename": "ImportError",
     "evalue": "attempted relative import with no known parent package",
     "output_type": "error",
     "traceback": [
      "\u001b[0;31m---------------------------------------------------------------------------\u001b[0m",
      "\u001b[0;31mImportError\u001b[0m                               Traceback (most recent call last)",
      "Cell \u001b[0;32mIn [5], line 16\u001b[0m\n\u001b[1;32m     13\u001b[0m db\u001b[39m.\u001b[39minit_app(app)\n\u001b[1;32m     15\u001b[0m \u001b[39m# blueprint for auth routes in our app\u001b[39;00m\n\u001b[0;32m---> 16\u001b[0m \u001b[39mfrom\u001b[39;00m \u001b[39m.\u001b[39;00m\u001b[39mauth\u001b[39;00m \u001b[39mimport\u001b[39;00m auth \u001b[39mas\u001b[39;00m auth_blueprint\n\u001b[1;32m     17\u001b[0m app\u001b[39m.\u001b[39mregister_blueprint(auth_blueprint)\n\u001b[1;32m     19\u001b[0m \u001b[39m# blueprint for non-auth parts of app\u001b[39;00m\n",
      "\u001b[0;31mImportError\u001b[0m: attempted relative import with no known parent package"
     ]
    }
   ],
   "source": [
    "from flask import Flask\n",
    "from flask_sqlalchemy import SQLAlchemy\n",
    "\n",
    "# init SQLAlchemy so we can use it later in our models\n",
    "db = SQLAlchemy()\n",
    "\n",
    "# def create_app():\n",
    "app = Flask(__name__)\n",
    "\n",
    "app.config['SECRET_KEY'] = 'secret-key-goes-here'\n",
    "app.config['SQLALCHEMY_DATABASE_URI'] = 'sqlite:///db.sqlite'\n",
    "\n",
    "db.init_app(app)\n",
    "\n",
    "# blueprint for auth routes in our app\n",
    "from .auth import auth as auth_blueprint\n",
    "app.register_blueprint(auth_blueprint)\n",
    "\n",
    "# blueprint for non-auth parts of app\n",
    "from .main import main as main_blueprint\n",
    "app.register_blueprint(main_blueprint)\n",
    "\n",
    "return app"
   ]
  },
  {
   "cell_type": "code",
   "execution_count": null,
   "metadata": {},
   "outputs": [],
   "source": []
  }
 ],
 "metadata": {
  "kernelspec": {
   "display_name": "Python 3.9.13",
   "language": "python",
   "name": "python3"
  },
  "language_info": {
   "codemirror_mode": {
    "name": "ipython",
    "version": 3
   },
   "file_extension": ".py",
   "mimetype": "text/x-python",
   "name": "python",
   "nbconvert_exporter": "python",
   "pygments_lexer": "ipython3",
   "version": "3.9.13"
  },
  "orig_nbformat": 4,
  "vscode": {
   "interpreter": {
    "hash": "d3b9626c83dcc61eefbb1b3fa9d7faff8d2f1e51fc2e1f0de3000148dd314a81"
   }
  }
 },
 "nbformat": 4,
 "nbformat_minor": 2
}
